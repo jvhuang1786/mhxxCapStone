{
 "cells": [
  {
   "cell_type": "code",
   "execution_count": 2,
   "metadata": {},
   "outputs": [
    {
     "name": "stdout",
     "output_type": "stream",
     "text": [
      "Number of images:  74\n"
     ]
    }
   ],
   "source": [
    "#generating gifs from png\n",
    "import glob\n",
    "#Loading Images in\n",
    "filenames = glob.glob('*.*g')\n",
    "print(\"Number of images: \", len(filenames))"
   ]
  },
  {
   "cell_type": "code",
   "execution_count": 6,
   "metadata": {},
   "outputs": [],
   "source": [
    "import numpy as np\n",
    "images = []\n",
    "for i in range(74):\n",
    "    flip = filenames[i]\n",
    "    images.append(flip)"
   ]
  },
  {
   "cell_type": "code",
   "execution_count": 9,
   "metadata": {},
   "outputs": [
    {
     "name": "stderr",
     "output_type": "stream",
     "text": [
      "\r",
      "t:   0%|          | 0/356 [00:00<?, ?it/s, now=None]"
     ]
    },
    {
     "name": "stdout",
     "output_type": "stream",
     "text": [
      "Moviepy - Building video mhxx.mp4.\n",
      "Moviepy - Writing video mhxx.mp4\n",
      "\n"
     ]
    },
    {
     "name": "stderr",
     "output_type": "stream",
     "text": [
      "                                                              \r"
     ]
    },
    {
     "name": "stdout",
     "output_type": "stream",
     "text": [
      "Moviepy - Done !\n",
      "Moviepy - video ready mhxx.mp4\n"
     ]
    }
   ],
   "source": [
    "#saving as a mp4\n",
    "import os\n",
    "from moviepy.editor import *\n",
    "\n",
    "clips = []\n",
    "\n",
    "for filename in images:\n",
    "    clips.append(ImageClip(filename).set_duration(0.2))\n",
    "     \n",
    "video = concatenate(clips, method=\"compose\")\n",
    "video.write_videofile('mhxx.mp4', fps=24)"
   ]
  },
  {
   "cell_type": "code",
   "execution_count": null,
   "metadata": {},
   "outputs": [],
   "source": []
  }
 ],
 "metadata": {
  "kernelspec": {
   "display_name": "Python 3",
   "language": "python",
   "name": "python3"
  },
  "language_info": {
   "codemirror_mode": {
    "name": "ipython",
    "version": 3
   },
   "file_extension": ".py",
   "mimetype": "text/x-python",
   "name": "python",
   "nbconvert_exporter": "python",
   "pygments_lexer": "ipython3",
   "version": "3.7.0"
  }
 },
 "nbformat": 4,
 "nbformat_minor": 2
}
